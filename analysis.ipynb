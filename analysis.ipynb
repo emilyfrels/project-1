{
 "cells": [
  {
   "cell_type": "code",
   "execution_count": null,
   "metadata": {},
   "outputs": [],
   "source": [
    "# Import dependencies\n",
    "import pandas as pd\n",
    "import numpy as np\n",
    "import matplotlib.pyplot as plt\n",
    "import scipy.stats as sts\n",
    "from scipy.stats import linregress"
   ]
  },
  {
   "cell_type": "code",
   "execution_count": null,
   "metadata": {},
   "outputs": [],
   "source": [
    "# Kristina's code starts here\n"
   ]
  },
  {
   "cell_type": "code",
   "execution_count": null,
   "metadata": {},
   "outputs": [],
   "source": [
    "# Kristina's code ends here"
   ]
  },
  {
   "cell_type": "code",
   "execution_count": null,
   "metadata": {},
   "outputs": [],
   "source": [
    "# Jeff's code starts here"
   ]
  },
  {
   "cell_type": "code",
   "execution_count": null,
   "metadata": {},
   "outputs": [],
   "source": [
    "# Jeff's code ends here"
   ]
  },
  {
   "cell_type": "code",
   "execution_count": null,
   "metadata": {},
   "outputs": [],
   "source": [
    "# Faduma's code starts here"
   ]
  },
  {
   "cell_type": "code",
   "execution_count": null,
   "metadata": {},
   "outputs": [],
   "source": [
    "# Faduma's code ends here"
   ]
  },
  {
   "cell_type": "code",
   "execution_count": null,
   "metadata": {},
   "outputs": [],
   "source": [
    "# Emily's code starts here\n",
    "storm_data = pd.read_csv('Resources/clean_storm_event_data.csv')\n",
    "storm_data"
   ]
  },
  {
   "cell_type": "code",
   "execution_count": null,
   "metadata": {},
   "outputs": [],
   "source": [
    "storm_data['Event Type'].unique()"
   ]
  },
  {
   "cell_type": "markdown",
   "metadata": {},
   "source": [
    "# Counts of Tornado Eventsin Minnesota from 1950 to 2020"
   ]
  },
  {
   "cell_type": "code",
   "execution_count": null,
   "metadata": {},
   "outputs": [],
   "source": [
    "year_list = storm_data[\"Year\"].unique()\n",
    "event_list = storm_data[\"Event Type\"].unique()\n",
    "\n",
    "\n",
    "clean_tornado_df = pd.DataFrame()\n",
    "clean_tornado_df = storm_data[storm_data[\"Event Type\"]==\"Tornado\"]\n",
    "\n",
    "\n",
    "#clean_storm_data_mn_df\n",
    "year_count_df = pd.DataFrame()\n",
    "for i in year_list:\n",
    "    year_count = clean_tornado_df[clean_tornado_df[\"Year\"]==i][\"Event Type\"].count()\n",
    "    year_count_df = year_count_df.append({\"Year\":i, \"Count\":year_count}, ignore_index=True)\n",
    "year_count_df\n",
    "\n",
    "x_data = (year_count_df[\"Year\"].astype(int))\n",
    "y_data = year_count_df[\"Count\"].astype(float)\n",
    "\n",
    "plt.scatter(x_data,y_data, s = 4)\n",
    "plt.xlabel(\"Year\")\n",
    "plt.ylabel(\"Count\")\n",
    "plt.title(\"Counts of Tornado Events vs Year\")\n",
    "\n",
    "(slope_N, intercept_N, rvalue_N, pvalue_N, stderr_N) = linregress(x_data,y_data)\n",
    "regress_values_N = x_data * slope_N + intercept_N\n",
    "line_eq = \"y = \" + str(round(slope_N,2)) + \"x + \" + str(round(intercept_N,2))+\", r = \" +str(round(rvalue_N,2))+\", p=\"+str(round(pvalue_N,2))\n",
    "min_x = x_data.min()\n",
    "max_y = y_data.max()\n",
    "plt.plot(x_data,regress_values_N,\"r-\")\n",
    "plt.annotate(line_eq,(min_x+1,max_y-1),fontsize=11,color=\"red\") #writes to coordinates on graph\n",
    "plt.show()"
   ]
  },
  {
   "cell_type": "markdown",
   "metadata": {},
   "source": [
    "# Counts of Hail Events in Minnesota from 1950 to 2020"
   ]
  },
  {
   "cell_type": "code",
   "execution_count": null,
   "metadata": {},
   "outputs": [],
   "source": [
    "clean_hail_df = pd.DataFrame()\n",
    "clean_hail_df = storm_data[storm_data[\"Event Type\"]==\"Hail\"]\n",
    "\n",
    "\n",
    "#clean_storm_data_mn_df\n",
    "year_count_df = pd.DataFrame()\n",
    "for i in year_list:\n",
    "    year_count = clean_hail_df[clean_hail_df[\"Year\"]==i][\"Event Type\"].count()\n",
    "    year_count_df = year_count_df.append({\"Year\":i, \"Count\":year_count}, ignore_index=True)\n",
    "year_count_df\n",
    "\n",
    "x_data = (year_count_df[\"Year\"].astype(int))\n",
    "y_data = year_count_df[\"Count\"].astype(float)\n",
    "\n",
    "plt.scatter(x_data,y_data, s = 4)\n",
    "plt.xlabel(\"Year\")\n",
    "plt.ylabel(\"Count\")\n",
    "plt.title(\"Counts of Hail Events vs Year\")\n",
    "\n",
    "(slope_N, intercept_N, rvalue_N, pvalue_N, stderr_N) = linregress(x_data,y_data)\n",
    "regress_values_N = x_data * slope_N + intercept_N\n",
    "line_eq = \"y = \" + str(round(slope_N,2)) + \"x + \" + str(round(intercept_N,2))+\", r = \" +str(round(rvalue_N,2))+\", p=\"+str(round(pvalue_N,2))\n",
    "min_x = x_data.min()\n",
    "max_y = y_data.max()\n",
    "plt.plot(x_data,regress_values_N,\"r-\")\n",
    "plt.annotate(line_eq,(min_x+1,max_y-1),fontsize=11,color=\"red\") #writes to coordinates on graph\n",
    "plt.show()"
   ]
  },
  {
   "cell_type": "markdown",
   "metadata": {},
   "source": [
    "# Counts of Thunderstorm Wind Events in Minnesota from 1950 to 2020"
   ]
  },
  {
   "cell_type": "code",
   "execution_count": null,
   "metadata": {},
   "outputs": [],
   "source": [
    "clean_thunderstorm_wind_df = pd.DataFrame()\n",
    "clean_thunderstorm_wind_df = storm_data[storm_data[\"Event Type\"]==\"Thunderstorm Wind\"]\n",
    "\n",
    "\n",
    "#clean_storm_data_mn_df\n",
    "year_count_df = pd.DataFrame()\n",
    "for i in year_list:\n",
    "    year_count = clean_thunderstorm_wind_df[clean_thunderstorm_wind_df[\"Year\"]==i][\"Event Type\"].count()\n",
    "    year_count_df = year_count_df.append({\"Year\":i, \"Count\":year_count}, ignore_index=True)\n",
    "year_count_df\n",
    "\n",
    "x_data = (year_count_df[\"Year\"].astype(int))\n",
    "y_data = year_count_df[\"Count\"].astype(float)\n",
    "\n",
    "plt.scatter(x_data,y_data, s = 4)\n",
    "plt.xlabel(\"Year\")\n",
    "plt.ylabel(\"Count\")\n",
    "plt.title(\"Counts of Thunderstorm/Wind Events vs Year\")\n",
    "\n",
    "(slope_N, intercept_N, rvalue_N, pvalue_N, stderr_N) = linregress(x_data,y_data)\n",
    "regress_values_N = x_data * slope_N + intercept_N\n",
    "line_eq = \"y = \" + str(round(slope_N,2)) + \"x + \" + str(round(intercept_N,2))+\", r = \" +str(round(rvalue_N,2))+\", p=\"+str(round(pvalue_N,2))\n",
    "min_x = x_data.min()\n",
    "max_y = y_data.max()\n",
    "plt.plot(x_data,regress_values_N,\"r-\")\n",
    "plt.annotate(line_eq,(min_x+1,max_y-1),fontsize=11,color=\"red\") #writes to coordinates on graph\n",
    "plt.show()"
   ]
  },
  {
   "cell_type": "markdown",
   "metadata": {},
   "source": [
    "# Total Count of Tornado, Thunderstorm/Wind, and Hail Events in Minnesota from 1950 to 2020"
   ]
  },
  {
   "cell_type": "code",
   "execution_count": null,
   "metadata": {},
   "outputs": [],
   "source": [
    "\n",
    "\n",
    "\n",
    "# storm_data.plot.bar(stacked=True)\n",
    "# plt.show()"
   ]
  },
  {
   "cell_type": "code",
   "execution_count": null,
   "metadata": {},
   "outputs": [],
   "source": [
    "# Emily's code ends here"
   ]
  }
 ],
 "metadata": {
  "kernelspec": {
   "display_name": "Python 3",
   "language": "python",
   "name": "python3"
  },
  "language_info": {
   "codemirror_mode": {
    "name": "ipython",
    "version": 3
   },
   "file_extension": ".py",
   "mimetype": "text/x-python",
   "name": "python",
   "nbconvert_exporter": "python",
   "pygments_lexer": "ipython3",
   "version": "3.6.10"
  }
 },
 "nbformat": 4,
 "nbformat_minor": 4
}
