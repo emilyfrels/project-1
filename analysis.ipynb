{
 "cells": [
  {
   "cell_type": "code",
   "execution_count": null,
   "metadata": {},
   "outputs": [],
   "source": [
    "# Import dependencies\n",
    "import pandas as pd\n",
    "import random as random\n",
    "import numpy as np\n",
    "import matplotlib.pyplot as plt\n",
    "import scipy.stats as stats\n",
    "from scipy.stats import linregress\n",
    "from citipy import citipy\n",
    "import requests\n",
    "import json\n",
    "\n",
    "\n",
    "import warnings\n",
    "warnings.filterwarnings('ignore')\n",
    "warnings.simplefilter('ignore')"
   ]
  },
  {
   "cell_type": "code",
   "execution_count": null,
   "metadata": {},
   "outputs": [],
   "source": [
    "# Kristina's code starts here\n",
    "storm_data = pd.read_csv('Resources/clean_storm_event_data.csv')\n",
    "storm_data = storm_data.drop(columns = 'Unnamed: 0')\n",
    "storm_data"
   ]
  },
  {
   "cell_type": "code",
   "execution_count": null,
   "metadata": {},
   "outputs": [],
   "source": [
    "# Kristina's code ends here"
   ]
  },
  {
   "cell_type": "code",
   "execution_count": null,
   "metadata": {},
   "outputs": [],
   "source": [
    "# Jeff's code starts here\n",
    "temp_data_df = pd.read_csv('Resources/clean_temp_data.csv')\n",
    "temp_data_df\n"
   ]
  },
  {
   "cell_type": "code",
   "execution_count": null,
   "metadata": {},
   "outputs": [],
   "source": [
    "# Jeff's code ends here\n",
    "temp_data_df[\"Name\"].unique()\n",
    "temp_data_df.dropna(inplace = True)\n",
    "temp_data_df\n",
    "\n",
    "#code below combines all locations into one average value for month and year\n",
    "list = temp_data_df[\"Name\"].unique()\n",
    "temp_comb_df = temp_data_df.groupby([\"Date\"])[\"Total Monthly Precipitation\", \"Total Montly Snowfall (mm)\",\n",
    "                                             \"Avg Monthly Temp\", \"Monthly Mean Max Temp\",\n",
    "                                              \"Monthly Mean Min Temp\"].mean().reset_index()\n",
    "\n",
    "#Data is string Year-Month (month two digits 01-12).  This splits into two fields\n",
    "temp_comb_df[\"Month\"] = temp_comb_df[\"Date\"].str.split(\"-\").str[1].astype(int)\n",
    "temp_comb_df[\"Year\"] = temp_comb_df[\"Date\"].str.split(\"-\").str[0].astype(int)\n",
    "\n",
    "col_list = temp_comb_df.columns.tolist()\n",
    "Season_data_df = pd.DataFrame(columns = col_list)\n",
    "\n",
    "#combining months to form seasons: Winter (Dec-Feb), Fall(Mar-May), Summer(June-Aug), Fall(Sept-Nov)\n",
    "for i in temp_comb_df[\"Year\"].unique():\n",
    "    if i!= 1950 and i!= 2020: #ignore 1950 because don't have dec 1949 and don't have all 2020\n",
    "        \n",
    "        #in dataframe the \"month\" represents the season: 2=winter, 4 = spring, 7 = summer, 10=fall\n",
    "        winter_data = temp_comb_df.loc[((temp_comb_df[\"Year\"]==i) & (temp_comb_df[\"Month\"].between(1,2)))|\\\n",
    "                                         ((temp_comb_df[\"Year\"]==(i-1)) & (temp_comb_df[\"Month\"]==12))].mean()\n",
    "        winter_data[\"Year\"]=winter_data[\"Year\"].astype(int)+1 # extra 1 because rounds down to year previous\n",
    "        winter_data[\"Month\"] = 1 #would be 5 otherwise (mean(12,1,2))\n",
    "        spring_data = temp_comb_df.loc[((temp_comb_df[\"Year\"]==i) & (temp_comb_df[\"Month\"].between(3,5)))].mean()\n",
    "        spring_data[\"Year\"]=spring_data[\"Year\"].astype(int)\n",
    "        summer_data = temp_comb_df.loc[((temp_comb_df[\"Year\"]==i) & (temp_comb_df[\"Month\"].between(6,8)))].mean()\n",
    "        summer_data[\"Year\"]=summer_data[\"Year\"].astype(int)\n",
    "        fall_data = temp_comb_df.loc[((temp_comb_df[\"Year\"]==i) & (temp_comb_df[\"Month\"].between(9,11)))].mean() \n",
    "        fall_data[\"Year\"]=fall_data[\"Year\"].astype(int)\n",
    "        \n",
    "        frames = [winter_data, spring_data, summer_data, fall_data]\n",
    "        Season_data_df = Season_data_df.append(frames, ignore_index = True)\n",
    "        \n",
    "Season_data_df[\"Temp Swing\"] = Season_data_df[\"Monthly Mean Max Temp\"]-Season_data_df[\"Monthly Mean Min Temp\"]\n",
    "Season_data_df.drop(columns=[\"Date\"], inplace = True)\n"
   ]
  },
  {
   "cell_type": "code",
   "execution_count": null,
   "metadata": {},
   "outputs": [],
   "source": [
    "Season_data_df"
   ]
  },
  {
   "cell_type": "code",
   "execution_count": null,
   "metadata": {},
   "outputs": [],
   "source": []
  },
  {
   "cell_type": "code",
   "execution_count": null,
   "metadata": {},
   "outputs": [],
   "source": [
    "variable = \"Temp Swing\" #pick variable to look at\n",
    "\n",
    "#defining seasons by value in month column\n",
    "winter = 1\n",
    "spring = 4\n",
    "summer = 7\n",
    "fall = 10\n",
    "\n",
    "#specifying data for plotting based on variable and season\n",
    "x_axis = Season_data_df[Season_data_df[\"Month\"]==winter][\"Year\"]\n",
    "y_axis = Season_data_df[Season_data_df[\"Month\"]==winter][variable]\n",
    "plt.scatter(x_axis,y_axis)\n",
    "\n",
    "(slope_N, intercept_N, rvalue_N, pvalue_N, stderr_N) = linregress(x_axis,y_axis)\n",
    "regress_values_N = x_axis * slope_N + intercept_N\n",
    "line_eq = \"y = \" + str(round(slope_N,2)) + \"x + \" + str(round(intercept_N,2))+\", r = \" +str(round(rvalue_N,3))\\\n",
    "                + \"p =\"+str(round(pvalue_N,3))\n",
    "max_y = y_axis.max()\n",
    "min_x = x_axis.min()\n",
    "plt.plot(x_axis,regress_values_N,\"r-\")\n",
    "plt.annotate(line_eq,(min_x+1,max_y-1),fontsize=11,color=\"red\") #writes to coordinates on graph\n",
    "plt.xlabel(\"Year\")\n",
    "plt.ylabel(f\"{variable} \")\n",
    "plt.title(f\"{variable} versus Latitude /n for Northern Hemisphere\")"
   ]
  },
  {
   "cell_type": "code",
   "execution_count": null,
   "metadata": {},
   "outputs": [],
   "source": []
  },
  {
   "cell_type": "code",
   "execution_count": null,
   "metadata": {},
   "outputs": [],
   "source": []
  },
  {
   "cell_type": "code",
   "execution_count": null,
   "metadata": {},
   "outputs": [],
   "source": [
    "# Faduma's code starts here"
   ]
  },
  {
   "cell_type": "code",
   "execution_count": null,
   "metadata": {},
   "outputs": [],
   "source": [
    "# Faduma's code ends here"
   ]
  },
  {
   "cell_type": "code",
   "execution_count": null,
   "metadata": {},
   "outputs": [],
   "source": [
    "# Emily's code starts here"
   ]
  },
  {
   "cell_type": "code",
   "execution_count": null,
   "metadata": {},
   "outputs": [],
   "source": [
    "# Emily's code ends here"
   ]
  }
 ],
 "metadata": {
  "kernelspec": {
   "display_name": "Python 3",
   "language": "python",
   "name": "python3"
  },
  "language_info": {
   "codemirror_mode": {
    "name": "ipython",
    "version": 3
   },
   "file_extension": ".py",
   "mimetype": "text/x-python",
   "name": "python",
   "nbconvert_exporter": "python",
   "pygments_lexer": "ipython3",
   "version": "3.6.10"
  }
 },
 "nbformat": 4,
 "nbformat_minor": 4
}
