{
 "cells": [
  {
   "cell_type": "code",
   "execution_count": null,
   "metadata": {},
   "outputs": [],
   "source": [
    "# Import dependencies\n",
    "import pandas as pd\n",
    "import numpy as np\n",
    "import matplotlib.pyplot as plt\n",
    "import scipy.stats as sts\n",
    "from glob import glob"
   ]
  },
  {
   "cell_type": "code",
   "execution_count": null,
   "metadata": {},
   "outputs": [],
   "source": [
    "# Kristina's code starts here"
   ]
  },
  {
   "cell_type": "code",
   "execution_count": null,
   "metadata": {},
   "outputs": [],
   "source": [
    "# Kristina's code ends here"
   ]
  },
  {
   "cell_type": "code",
   "execution_count": null,
   "metadata": {},
   "outputs": [],
   "source": [
    "# Jeff's code starts here\n",
    "filenames = glob('Resources/StormEvent*.csv')\n",
    "Storm_Event_df = [pd.read_csv(f, dtype = str) for f in filenames]\n",
    "\n"
   ]
  },
  {
   "cell_type": "code",
   "execution_count": null,
   "metadata": {},
   "outputs": [],
   "source": [
    "Storm_Event_Combined_df=pd.DataFrame()\n",
    "\n",
    "for i in range(0,len(Storm_Event_df)):\n",
    "    Storm_Event_Combined_df = Storm_Event_Combined_df.append(Storm_Event_df[i])\n",
    "#Storm_Event_df\n",
    "\n",
    "Storm_Event_Combined_df.head()\n",
    "\n"
   ]
  },
  {
   "cell_type": "code",
   "execution_count": null,
   "metadata": {},
   "outputs": [],
   "source": [
    "#jeff's code ends here\n"
   ]
  },
  {
   "cell_type": "code",
   "execution_count": null,
   "metadata": {
    "scrolled": true
   },
   "outputs": [],
   "source": [
    "# Faduma's code starts here\n",
    "filenames = glob('Temperature_Data/Temperature_Data*.csv')\n",
    "Temp_Data_df = [pd.read_csv(f, dtype = str) for f in filenames]\n",
    "\n",
    "Temp_Data_Combined_df=pd.DataFrame()\n",
    "\n",
    "for i in range(0,len(Temp_Data_df)):\n",
    "    Temp_Data_Combined_df = Temp_Data_Combined_df.append(Temp_Data_df[i])\n",
    "    \n",
    "#combined file name:\n",
    "Temp_Data_Combined_df.head()"
   ]
  },
  {
   "cell_type": "code",
   "execution_count": null,
   "metadata": {},
   "outputs": [],
   "source": [
    "# Faduma's code ends here"
   ]
  },
  {
   "cell_type": "code",
   "execution_count": null,
   "metadata": {},
   "outputs": [],
   "source": [
    "# Emily's code starts here\n",
    "# View existing dataframe\n",
    "Storm_Event_Combined_df.head(150)\n",
    "\n"
   ]
  },
  {
   "cell_type": "code",
   "execution_count": null,
   "metadata": {},
   "outputs": [],
   "source": [
    "list(Storm_Event_Combined_df.columns)"
   ]
  },
  {
   "cell_type": "code",
   "execution_count": null,
   "metadata": {},
   "outputs": [],
   "source": [
    "# keeping only the columns that are relevant\n",
    "clean_storm_data_df = Storm_Event_Combined_df[['YEAR','MONTH_NAME','BEGIN_DAY','STATE','EVENT_TYPE']]\n",
    "\n",
    "# filtering the data based on weather in Minnesota\n",
    "clean_storm_data_mn_df = clean_storm_data_df[clean_storm_data_df['STATE'] == 'MINNESOTA']\n",
    "clean_storm_data_mn_df.head()\n",
    "\n",
    "# rename the columns\n",
    "clean_storm_data_mn_df = clean_storm_data_mn_df.rename(columns={\n",
    "    \"YEAR\": \"Year\",\n",
    "    \"MONTH_NAME\": \"Month\",\n",
    "    \"BEGIN_DAY\": \"Day\",\n",
    "    \"STATE\": \"State\",\n",
    "    \"EVENT_TYPE\": \"Event Type\",\n",
    "})\n",
    "\n",
    "# check number of rows and columns\n",
    "clean_storm_data_mn_df.shape\n",
    "\n",
    "# view all unique event types\n",
    "clean_storm_data_mn_df['Event Type'].unique()"
   ]
  },
  {
   "cell_type": "code",
   "execution_count": null,
   "metadata": {},
   "outputs": [],
   "source": [
    "# Check the number of rows in the data\n",
    "len(clean_storm_data_mn_df)"
   ]
  },
  {
   "cell_type": "code",
   "execution_count": null,
   "metadata": {},
   "outputs": [],
   "source": [
    "#need to check for Nan values and drop them\n",
    "clean_storm_df = clean_storm_data_mn_df.dropna(how='any', inplace=False)\n",
    "clean_storm_df.head()\n",
    "len(clean_storm_df)"
   ]
  },
  {
   "cell_type": "code",
   "execution_count": null,
   "metadata": {},
   "outputs": [],
   "source": [
    "#update 'THUNDERSTORM WINDS/HEAVY RAIN' to proper case\n",
    "clean_storm_df['Event Type'] = clean_storm_df['Event Type'].replace({'THUNDERSTORM WINDS/HEAVY RAIN':'Thunderstorm Winds/Heavy Rain'})\n",
    "clean_storm_df"
   ]
  },
  {
   "cell_type": "code",
   "execution_count": null,
   "metadata": {},
   "outputs": [],
   "source": [
    "# Review value counts of Event Type\n",
    "clean_storm_df['Event Type'].value_counts()"
   ]
  },
  {
   "cell_type": "code",
   "execution_count": null,
   "metadata": {},
   "outputs": [],
   "source": [
    "# Emily's code ends here"
   ]
  }
 ],
 "metadata": {
  "kernelspec": {
   "display_name": "Python 3",
   "language": "python",
   "name": "python3"
  },
  "language_info": {
   "codemirror_mode": {
    "name": "ipython",
    "version": 3
   },
   "file_extension": ".py",
   "mimetype": "text/x-python",
   "name": "python",
   "nbconvert_exporter": "python",
   "pygments_lexer": "ipython3",
   "version": "3.6.10"
  }
 },
 "nbformat": 4,
 "nbformat_minor": 4
}
