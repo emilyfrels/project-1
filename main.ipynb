{
 "cells": [
  {
   "cell_type": "code",
   "execution_count": null,
   "metadata": {},
   "outputs": [],
   "source": [
    "# Import dependencies\n",
    "import pandas as pd\n",
    "import numpy as np\n",
    "import matplotlib.pyplot as plt\n",
    "import scipy.stats as sts\n",
    "from scipy.stats import linregress\n",
    "from glob import glob"
   ]
  },
  {
   "cell_type": "code",
   "execution_count": null,
   "metadata": {},
   "outputs": [],
   "source": [
    "# Jeff's code starts here\n",
    "filenames = glob('Resources/StormEvent*.csv')\n",
    "Storm_Event_df = [pd.read_csv(f, dtype = str) for f in filenames]\n",
    "\n"
   ]
  },
  {
   "cell_type": "code",
   "execution_count": null,
   "metadata": {},
   "outputs": [],
   "source": [
    "Storm_Event_Combined_df=pd.DataFrame()\n",
    "\n",
    "for i in range(0,len(Storm_Event_df)):\n",
    "    Storm_Event_Combined_df = Storm_Event_Combined_df.append(Storm_Event_df[i])\n",
    "#Storm_Event_df\n",
    "\n",
    "Storm_Event_Combined_df.head()\n",
    "\n"
   ]
  },
  {
   "cell_type": "code",
   "execution_count": null,
   "metadata": {},
   "outputs": [],
   "source": [
    "#jeff's code ends here\n"
   ]
  },
  {
   "cell_type": "code",
   "execution_count": null,
   "metadata": {
    "scrolled": true
   },
   "outputs": [],
   "source": [
    "# Faduma's code starts here\n",
    "filenames = glob('Temperature_Data/Temperature_Data*.csv')\n",
    "Temp_Data_df = [pd.read_csv(f, dtype = str) for f in filenames]\n",
    "\n",
    "Temp_Data_Combined_df=pd.DataFrame()\n",
    "\n",
    "for i in range(0,len(Temp_Data_df)):\n",
    "    Temp_Data_Combined_df = Temp_Data_Combined_df.append(Temp_Data_df[i])\n",
    "    \n",
    "#combined file name:\n",
    "Temp_Data_Combined_df.head()"
   ]
  },
  {
   "cell_type": "code",
   "execution_count": null,
   "metadata": {},
   "outputs": [],
   "source": [
    "# Faduma's code ends here"
   ]
  },
  {
   "cell_type": "code",
   "execution_count": null,
   "metadata": {},
   "outputs": [],
   "source": [
    "# Kristina's code starts here"
   ]
  },
  {
   "cell_type": "code",
   "execution_count": null,
   "metadata": {},
   "outputs": [],
   "source": [
    "#View existing dataframe\n",
    "Temp_Data_Combined_df.head(150)"
   ]
  },
  {
   "cell_type": "code",
   "execution_count": null,
   "metadata": {},
   "outputs": [],
   "source": [
    "list(Temp_Data_Combined_df.columns)"
   ]
  },
  {
   "cell_type": "code",
   "execution_count": null,
   "metadata": {},
   "outputs": [],
   "source": [
    "# keeping only the columns that are relevant\n",
    "clean_temp_data_df = Temp_Data_Combined_df[['NAME','DATE','PRCP','SNOW','TAVG','TMAX','TMIN']]\n",
    "print(clean_temp_data_df)"
   ]
  },
  {
   "cell_type": "code",
   "execution_count": null,
   "metadata": {},
   "outputs": [],
   "source": [
    "# Renaming column headers\n",
    "clean_temp_data_df = clean_temp_data_df.rename(columns={\n",
    "    \"NAME\": \"Name\",\n",
    "    \"DATE\": \"Date\",\n",
    "    \"PRCP\": \"Total Monthly Precipitation\",\n",
    "    \"SNOW\": \"Total Montly Snowfall (mm)\",\n",
    "    \"TAVG\": \"Avg Monthly Temp\", \n",
    "    \"TMAX\": \"Monthly Mean Max Temp\",\n",
    "    \"TMIN\": \"Monthly Mean Min Temp\"\n",
    "})\n",
    "clean_temp_data_df.head()"
   ]
  },
  {
   "cell_type": "code",
   "execution_count": null,
   "metadata": {},
   "outputs": [],
   "source": [
    "clean_temp_data_df.shape"
   ]
  },
  {
   "cell_type": "code",
   "execution_count": null,
   "metadata": {},
   "outputs": [],
   "source": [
    "#Check for Nan values and drop them.\n",
    "cleaner_temp_data_df = clean_temp_data_df.dropna(how='any', inplace=False)\n",
    "cleaner_temp_data_df.tail()\n"
   ]
  },
  {
   "cell_type": "code",
   "execution_count": null,
   "metadata": {},
   "outputs": [],
   "source": [
    "cleaner_temp_data_df['Name'].unique()"
   ]
  },
  {
   "cell_type": "code",
   "execution_count": null,
   "metadata": {},
   "outputs": [],
   "source": [
    "len(cleaner_temp_data_df)"
   ]
  },
  {
   "cell_type": "code",
   "execution_count": null,
   "metadata": {},
   "outputs": [],
   "source": [
    "# Save output to csv\n",
    "clean_temp_data_df.to_csv('Resources/clean_temp_data.csv', index=false)"
   ]
  },
  {
   "cell_type": "code",
   "execution_count": null,
   "metadata": {},
   "outputs": [],
   "source": [
    "# Kristina's code ends here"
   ]
  },
  {
   "cell_type": "code",
   "execution_count": null,
   "metadata": {},
   "outputs": [],
   "source": [
    "# Emily's code starts here\n",
    "# View existing dataframe\n",
    "Storm_Event_Combined_df.head(150)\n",
    "\n"
   ]
  },
  {
   "cell_type": "code",
   "execution_count": null,
   "metadata": {},
   "outputs": [],
   "source": [
    "list(Storm_Event_Combined_df.columns)"
   ]
  },
  {
   "cell_type": "code",
   "execution_count": null,
   "metadata": {},
   "outputs": [],
   "source": [
    "# keeping only the columns that are relevant\n",
    "clean_storm_data_df = Storm_Event_Combined_df[['YEAR','MONTH_NAME','BEGIN_DAY','STATE','EVENT_TYPE']]\n",
    "\n",
    "# filtering the data based on weather in Minnesota\n",
    "clean_storm_data_mn_df = clean_storm_data_df[clean_storm_data_df['STATE'] == 'MINNESOTA']\n",
    "clean_storm_data_mn_df.head()\n",
    "\n",
    "# rename the columns\n",
    "clean_storm_data_mn_df = clean_storm_data_mn_df.rename(columns={\n",
    "    \"YEAR\": \"Year\",\n",
    "    \"MONTH_NAME\": \"Month\",\n",
    "    \"BEGIN_DAY\": \"Day\",\n",
    "    \"STATE\": \"State\",\n",
    "    \"EVENT_TYPE\": \"Event Type\",\n",
    "})\n",
    "\n",
    "# check number of rows and columns\n",
    "clean_storm_data_mn_df.shape\n",
    "\n",
    "# view all unique event types\n",
    "clean_storm_data_mn_df['Event Type'].unique()"
   ]
  },
  {
   "cell_type": "code",
   "execution_count": null,
   "metadata": {},
   "outputs": [],
   "source": [
    "# Check the number of rows in the data\n",
    "len(clean_storm_data_mn_df)"
   ]
  },
  {
   "cell_type": "code",
   "execution_count": null,
   "metadata": {},
   "outputs": [],
   "source": [
    "#need to check for Nan values and drop them\n",
    "clean_storm_df = clean_storm_data_mn_df.dropna(how='any', inplace=False)\n",
    "clean_storm_df.head()\n",
    "len(clean_storm_df)"
   ]
  },
  {
   "cell_type": "code",
   "execution_count": null,
   "metadata": {},
   "outputs": [],
   "source": [
    "clean_storm_df['Event Type'].value_counts()"
   ]
  },
  {
   "cell_type": "code",
   "execution_count": null,
   "metadata": {},
   "outputs": [],
   "source": [
    "#update 'THUNDERSTORM WINDS/HEAVY RAIN' to proper case\n",
    "clean_storm_df['Event Type'] = clean_storm_df['Event Type'].replace({\n",
    "    'THUNDERSTORM WINDS/HEAVY RAIN':'Thunderstorm Winds/Heavy Rain',\n",
    "    'Blizzard': 'Winter Weather', \n",
    "    'Heavy Snow': 'Winter Weather',\n",
    "    'Ice Storm': 'Winter Weather',\n",
    "    'Lake-Effect Snow': 'Winter Weather',\n",
    "    'Sleet': 'Winter Weather', \n",
    "    'Winter Storm': 'Winter Weather'\n",
    "})\n",
    "clean_storm_df.head(20)"
   ]
  },
  {
   "cell_type": "code",
   "execution_count": null,
   "metadata": {},
   "outputs": [],
   "source": [
    "# Review value counts of Event Type\n",
    "clean_storm_df['Event Type'].value_counts()"
   ]
  },
  {
   "cell_type": "code",
   "execution_count": null,
   "metadata": {},
   "outputs": [],
   "source": [
    "# Save output to csv\n",
    "clean_storm_df.to_csv('Resources/clean_storm_event_data.csv', index=false)"
   ]
  },
  {
   "cell_type": "markdown",
   "metadata": {},
   "source": [
    "## Testing of cleaned storm data - should be moved to analysis routine\n"
   ]
  },
  {
   "cell_type": "code",
   "execution_count": null,
   "metadata": {},
   "outputs": [],
   "source": [
    "#testing by Jeff\n",
    "year_list = clean_storm_data_mn_df[\"Year\"].unique()\n",
    "event_list = clean_storm_data_mn_df[\"Event Type\"].unique()\n",
    "\n",
    "#clean_storm_data_mn_df\n",
    "year_count_df = pd.DataFrame()\n",
    "for i in year_list:\n",
    "    year_count = clean_storm_data_mn_df[clean_storm_data_mn_df[\"Year\"]==i][\"Event Type\"].count()\n",
    "    year_count_df = year_count_df.append({\"Year\":i, \"Count\":year_count}, ignore_index=True)\n",
    "year_count_df\n",
    "\n",
    "x_data = (year_count_df[\"Year\"].astype(int))\n",
    "y_data = year_count_df[\"Count\"].astype(float)\n",
    "\n",
    "plt.scatter(x_data,y_data, s = 4)\n",
    "plt.xlabel(\"Year\")\n",
    "plt.ylabel(\"Count\")\n",
    "plt.title(\"Counts of Storm Events vs Year\")\n",
    "\n",
    "plt.show()"
   ]
  },
  {
   "cell_type": "code",
   "execution_count": null,
   "metadata": {},
   "outputs": [],
   "source": [
    "#testing by Jeff\n",
    "#Isolating just the Tornado data (data set from 1950-2020)\n",
    "\n",
    "year_list = clean_storm_data_mn_df[\"Year\"].unique()\n",
    "event_list = clean_storm_data_mn_df[\"Event Type\"].unique()\n",
    "clean_tornado_mn_df = pd.DataFrame()\n",
    "clean_tornado_mn_df = clean_storm_data_mn_df[clean_storm_data_mn_df[\"Event Type\"]==\"Tornado\"]\n",
    "\n",
    "#clean_storm_data_mn_df\n",
    "year_count_df = pd.DataFrame()\n",
    "for i in year_list:\n",
    "    year_count = clean_tornado_mn_df[clean_tornado_mn_df[\"Year\"]==i][\"Event Type\"].count()\n",
    "    year_count_df = year_count_df.append({\"Year\":i, \"Count\":year_count}, ignore_index=True)\n",
    "year_count_df\n",
    "\n",
    "x_data = (year_count_df[\"Year\"].astype(int))\n",
    "y_data = year_count_df[\"Count\"].astype(float)\n",
    "\n",
    "plt.scatter(x_data,y_data, s = 4)\n",
    "plt.xlabel(\"Year\")\n",
    "plt.ylabel(\"Count\")\n",
    "plt.title(\"Counts of Tornado Events vs Year\")\n",
    "\n",
    "(slope_N, intercept_N, rvalue_N, pvalue_N, stderr_N) = linregress(x_data,y_data)\n",
    "regress_values_N = x_data * slope_N + intercept_N\n",
    "line_eq = \"y = \" + str(round(slope_N,2)) + \"x + \" + str(round(intercept_N,2))+\", r = \" +str(round(rvalue_N,2))+\", p=\"+str(round(pvalue_N,2))\n",
    "min_x = x_data.min()\n",
    "max_y = y_data.max()\n",
    "plt.plot(x_data,regress_values_N,\"r-\")\n",
    "plt.annotate(line_eq,(min_x+1,max_y-1),fontsize=11,color=\"red\") #writes to coordinates on graph\n",
    "plt.show()"
   ]
  },
  {
   "cell_type": "code",
   "execution_count": null,
   "metadata": {},
   "outputs": [],
   "source": []
  },
  {
   "cell_type": "code",
   "execution_count": null,
   "metadata": {},
   "outputs": [],
   "source": [
    "#testing by Jeff\n",
    "year_list = clean_storm_data_mn_df[\"Year\"].unique()\n",
    "event_list = clean_storm_data_mn_df[\"Event Type\"].unique()\n",
    "clean_tornado_mn_df = pd.DataFrame()\n",
    "clean_tornado_mn_df = clean_storm_data_mn_df[clean_storm_data_mn_df[\"Year\"]>\"1995\"]\n",
    "\n",
    "#clean_storm_data_mn_df looking beyond 1995 only\n",
    "count_g1995_df = pd.DataFrame()\n",
    "for i in year_list:\n",
    "    if i > \"1995\":\n",
    "        count_g1995 = clean_tornado_mn_df[clean_tornado_mn_df[\"Year\"]==i][\"Event Type\"].count()\n",
    "        count_g1995_df = count_g1995_df.append({\"Year\":i, \"Count\":count_g1995}, ignore_index=True)\n",
    "\n",
    "\n",
    "x_data = (count_g1995_df[\"Year\"].astype(int))\n",
    "y_data = count_g1995_df[\"Count\"].astype(float)\n",
    "\n",
    "plt.scatter(x_data,y_data, s = 4)\n",
    "plt.xlabel(\"Year\")\n",
    "plt.ylabel(\"Count\")\n",
    "plt.title(\"Counts of All Events vs Year past 1995\")\n",
    "\n",
    "(slope_N, intercept_N, rvalue_N, pvalue_N, stderr_N) = linregress(x_data,y_data)\n",
    "regress_values_N = x_data * slope_N + intercept_N\n",
    "line_eq = \"y = \" + str(round(slope_N,2)) + \"x + \" + str(round(intercept_N,2))+\", r = \" +str(round(rvalue_N,2))+\", p=\"+str(round(pvalue_N,2))\n",
    "min_x = x_data.min()\n",
    "max_y = y_data.max()\n",
    "plt.plot(x_data,regress_values_N,\"r-\")\n",
    "plt.annotate(line_eq,(min_x+1,max_y-1),fontsize=11,color=\"red\") #writes to coordinates on graph\n",
    "plt.show()"
   ]
  },
  {
   "cell_type": "code",
   "execution_count": null,
   "metadata": {},
   "outputs": [],
   "source": [
    "#more code by Jeff\n",
    "event_count_df = pd.DataFrame()\n",
    "for i in event_list:\n",
    "    event_count = clean_storm_data_mn_df[clean_storm_data_mn_df[\"Event Type\"]==i][\"Event Type\"].count()\n",
    "    event_count_df = event_count_df.append({\"Event Type\":i, \"Count\":event_count}, ignore_index=True)\n",
    "event_count_df = event_count_df.sort_values(by = \"Count\", ascending = False)\n",
    "\n",
    "\n",
    "total = event_count_df[\"Count\"].sum()\n",
    "event_count_df[\"Percent\"] = event_count_df[\"Count\"]/total*100\n",
    "event_count_ge1_df = pd.DataFrame()\n",
    "event_count_ge1_df = event_count_df[event_count_df[\"Percent\"]>=1]\n",
    "\n",
    "x_data = event_count_ge1_df[\"Event Type\"].astype(object)\n",
    "y_data = event_count_ge1_df[\"Count\"].astype(float)\n",
    "x_list = x_data.tolist()\n",
    "y_list = y_data.tolist()\n",
    "\n",
    "fig = plt.figure()\n",
    "ax = fig.add_axes([0,0,1,1])\n",
    "plt.xticks(rotation=90)\n",
    "ax.bar(x_list,y_list)\n",
    "plt.show()\n",
    "\n",
    "event_count_df"
   ]
  },
  {
   "cell_type": "code",
   "execution_count": null,
   "metadata": {},
   "outputs": [],
   "source": [
    "# Emily's code ends here"
   ]
  }
 ],
 "metadata": {
  "kernelspec": {
   "display_name": "Python 3",
   "language": "python",
   "name": "python3"
  },
  "language_info": {
   "codemirror_mode": {
    "name": "ipython",
    "version": 3
   },
   "file_extension": ".py",
   "mimetype": "text/x-python",
   "name": "python",
   "nbconvert_exporter": "python",
   "pygments_lexer": "ipython3",
   "version": "3.6.10"
  }
 },
 "nbformat": 4,
 "nbformat_minor": 4
}
